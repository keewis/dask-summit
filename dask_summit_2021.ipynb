{
 "cells": [
  {
   "cell_type": "markdown",
   "id": "73e5585e-66da-40c1-ad28-0ea432385abd",
   "metadata": {},
   "source": [
    "xarray duck array support\n",
    "\n",
    "outline:\n",
    "- definition duck arrays\n",
    "    - not: array_like (=castable with `np.asarray`)\n",
    "    - needs to have:\n",
    "        - `ndim`\n",
    "        - `shape`\n",
    "        - `dtype`\n",
    "        - `__array_ufunc__`\n",
    "        - `__array_function__` (NEP18)\n",
    "    - future: `__array_module__` and `__array_namespace__`\n",
    "    - examples:\n",
    "        - pydata/sparse\n",
    "        - pint\n",
    "        - cupy\n",
    "        - pytorch?\n",
    "- duck dask arrays:\n",
    "    - definition: duck array and dask collection\n",
    "    - support status unknown (test suite is missing)\n",
    "- extra features:\n",
    "    - custom inline repr: `_repr_inline_`\n",
    "- duck array testing framework:\n",
    "    - using hypothesis\n",
    "    - separated into parts (subclasses)  (inspired by pandas' extension array test framework)\n",
    "    - can be used to test integration of new duck arrays, or even combinations, like:\n",
    "      - `pint(dask(numpy))`\n",
    "      - `pint(dask(sparse))`"
   ]
  }
 ],
 "metadata": {
  "kernelspec": {
   "display_name": "Python [conda env:.conda-xarray-presentations]",
   "language": "python",
   "name": "conda-env-.conda-xarray-presentations-py"
  },
  "language_info": {
   "codemirror_mode": {
    "name": "ipython",
    "version": 3
   },
   "file_extension": ".py",
   "mimetype": "text/x-python",
   "name": "python",
   "nbconvert_exporter": "python",
   "pygments_lexer": "ipython3",
   "version": "3.9.2"
  }
 },
 "nbformat": 4,
 "nbformat_minor": 5
}
