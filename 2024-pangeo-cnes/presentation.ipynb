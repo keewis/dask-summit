{
 "cells": [
  {
   "cell_type": "markdown",
   "id": "0",
   "metadata": {
    "editable": true,
    "slideshow": {
     "slide_type": ""
    },
    "tags": []
   },
   "source": [
    "# `xdggs`: using Discrete Global Grid Systems (DGGS) with `xarray`\n",
    "\n",
    "<!-- rendered using jupyterlab-myst\n",
    "\n",
    "Dependencies:\n",
    "- xarray\n",
    "- xdggs\n",
    "- pint-xarray\n",
    "- cmocean\n",
    "-->"
   ]
  },
  {
   "attachments": {},
   "cell_type": "markdown",
   "id": "1",
   "metadata": {
    "editable": true,
    "slideshow": {
     "slide_type": ""
    },
    "tags": []
   },
   "source": [
    "https://github.com/xarray-contrib/xdggs | https://xdggs.readthedocs.io\n",
    "\n",
    "- Based on cell ids (for working with cell boundaries see e.g. `uxarray`)\n",
    "- builtin support: healpix and H3, extensible by third-party libraries\n",
    "- cell stat pages: [h3](https://h3geo.org/docs/core-library/restable)\n",
    "\n",
    "```{warning}\n",
    "Interpolation to DGGS is a mostly unsolved problem in python, in the following we assume we already have data on a DGGS grid.\n",
    "```\n",
    "\n",
    "```{image}  global-hexagons-3094508851.jpg\n",
    "---\n",
    "width: 400\n",
    "height: 400\n",
    "title: H3\n",
    "---\n",
    "H3\n",
    "```\n",
    "```{image}  gorski_f1-3990760175.jpg\n",
    "---\n",
    "width: 400\n",
    "height: 400\n",
    "title: Healpix\n",
    "---\n",
    "Healpix\n",
    "```"
   ]
  },
  {
   "cell_type": "code",
   "execution_count": null,
   "id": "2",
   "metadata": {
    "editable": true,
    "jupyter": {
     "source_hidden": true
    },
    "slideshow": {
     "slide_type": ""
    },
    "tags": []
   },
   "outputs": [],
   "source": [
    "# calculate healpix stats page\n",
    "import healpy as hp\n",
    "import numpy as np\n",
    "from rich.table import Table\n",
    "\n",
    "table = Table()\n",
    "table.add_column(\"level\")\n",
    "table.add_column(\"n_cells\")\n",
    "table.add_column(\"n_cells per base pixel\")\n",
    "table.add_column(\"area (degree²)\", justify=\"right\")\n",
    "table.add_column(\"area (km²)\", justify=\"right\")\n",
    "table.add_column(\"distance (degree)\", justify=\"right\")\n",
    "table.add_column(\"distance (km)\", justify=\"right\")\n",
    "\n",
    "r = 6371\n",
    "\n",
    "for level in range(20):\n",
    "    n_cells = 12 * 4**level\n",
    "    area = 4 * np.pi / n_cells\n",
    "    per_base_pixel = 4**level\n",
    "    edge_length = np.sqrt(area)\n",
    "    table.add_row(\n",
    "        str(level),\n",
    "        str(n_cells),\n",
    "        str(per_base_pixel),\n",
    "        f\"{np.rad2deg(area):.012f}\",\n",
    "        f\"{area * r**2:.012f}\",\n",
    "        f\"{hp.nside2resol(2**level, arcmin=True) / 60:.012f}\",\n",
    "        f\"{r * hp.nside2resol(2**level, arcmin=False):.012f}\",\n",
    "    )\n",
    "table"
   ]
  },
  {
   "cell_type": "markdown",
   "id": "3",
   "metadata": {},
   "source": [
    "## Setup"
   ]
  },
  {
   "cell_type": "code",
   "execution_count": null,
   "id": "4",
   "metadata": {},
   "outputs": [],
   "source": [
    "import numpy as np\n",
    "import xarray as xr\n",
    "import xdggs\n",
    "\n",
    "xr.set_options(display_expand_data=False)"
   ]
  },
  {
   "cell_type": "code",
   "execution_count": null,
   "id": "5",
   "metadata": {},
   "outputs": [],
   "source": [
    "ds_healpix = xdggs.tutorial.open_dataset(\"air_temperature\", \"healpix\").load()\n",
    "ds_h3 = xdggs.tutorial.open_dataset(\"air_temperature\", \"h3\").load()\n",
    "\n",
    "display(ds_healpix, ds_h3)"
   ]
  },
  {
   "cell_type": "code",
   "execution_count": null,
   "id": "6",
   "metadata": {},
   "outputs": [],
   "source": [
    "h3_coords = (\n",
    "    ds_h3[[\"lat\", \"lon\"]]\n",
    "    .rename_vars({\"lon\": \"longitude\", \"lat\": \"latitude\"})\n",
    "    .drop_vars(\"cell_ids\")\n",
    "    .drop_attrs()\n",
    ")\n",
    "healpix_coords = (\n",
    "    ds_healpix[[\"lat\", \"lon\"]]\n",
    "    .rename_vars({\"lon\": \"longitude\", \"lat\": \"latitude\"})\n",
    "    .drop_vars(\"cell_ids\")\n",
    "    .drop_attrs()\n",
    ")"
   ]
  },
  {
   "cell_type": "code",
   "execution_count": null,
   "id": "7",
   "metadata": {},
   "outputs": [],
   "source": [
    "healpix = ds_healpix.pipe(xdggs.decode)\n",
    "h3 = ds_h3.pipe(xdggs.decode)\n",
    "\n",
    "display(healpix, h3)"
   ]
  },
  {
   "cell_type": "markdown",
   "id": "8",
   "metadata": {},
   "source": [
    "## Plotting"
   ]
  },
  {
   "cell_type": "code",
   "execution_count": null,
   "id": "9",
   "metadata": {
    "jupyter": {
     "source_hidden": true
    }
   },
   "outputs": [],
   "source": [
    "import cmocean  # noqa: F401\n",
    "import pint_xarray  # noqa: F401\n",
    "\n",
    "\n",
    "def to_celsius(ds):\n",
    "    return ds.pint.quantify().pint.to(\"degC\").pint.dequantify().pipe(xdggs.decode)"
   ]
  },
  {
   "cell_type": "code",
   "execution_count": null,
   "id": "10",
   "metadata": {
    "jupyter": {
     "outputs_hidden": true
    }
   },
   "outputs": [],
   "source": [
    "from ipywidgets import GridspecLayout\n",
    "\n",
    "subset_h3 = h3[\"air\"].isel(time=0)\n",
    "subset_healpix = healpix[\"air\"].isel(time=0)\n",
    "\n",
    "subset_healpix.dggs.explore()"
   ]
  },
  {
   "cell_type": "code",
   "execution_count": null,
   "id": "11",
   "metadata": {
    "jupyter": {
     "outputs_hidden": true
    }
   },
   "outputs": [],
   "source": [
    "grid = GridspecLayout(1, 2)\n",
    "grid[0, 0] = subset_h3.dggs.explore(cmap=\"coolwarm\", center=273.15, alpha=0.8)\n",
    "grid[0, 1] = subset_healpix.dggs.explore(cmap=\"coolwarm\", center=273.15, alpha=0.8)\n",
    "grid"
   ]
  },
  {
   "cell_type": "markdown",
   "id": "12",
   "metadata": {},
   "source": [
    "## Deriving data"
   ]
  },
  {
   "cell_type": "markdown",
   "id": "13",
   "metadata": {},
   "source": [
    "### Cell centers"
   ]
  },
  {
   "cell_type": "code",
   "execution_count": null,
   "id": "14",
   "metadata": {},
   "outputs": [],
   "source": [
    "h3_centers = h3.drop_vars([\"lon\", \"lat\"]).dggs.cell_centers()\n",
    "h3_centers"
   ]
  },
  {
   "cell_type": "code",
   "execution_count": null,
   "id": "15",
   "metadata": {},
   "outputs": [],
   "source": [
    "healpix_centers = healpix.drop_vars([\"lon\", \"lat\"]).dggs.cell_centers()\n",
    "healpix_centers"
   ]
  },
  {
   "cell_type": "code",
   "execution_count": null,
   "id": "16",
   "metadata": {},
   "outputs": [],
   "source": [
    "xr.testing.assert_allclose(h3_centers, h3_coords)\n",
    "xr.testing.assert_allclose(healpix_centers, healpix_coords)"
   ]
  },
  {
   "cell_type": "markdown",
   "id": "17",
   "metadata": {},
   "source": [
    "### Cell boundaries"
   ]
  },
  {
   "cell_type": "code",
   "execution_count": null,
   "id": "18",
   "metadata": {},
   "outputs": [],
   "source": [
    "h3.dggs.cell_boundaries()"
   ]
  },
  {
   "cell_type": "code",
   "execution_count": null,
   "id": "19",
   "metadata": {},
   "outputs": [],
   "source": [
    "healpix.dggs.cell_boundaries()"
   ]
  },
  {
   "cell_type": "markdown",
   "id": "20",
   "metadata": {},
   "source": [
    "## Selecting points"
   ]
  },
  {
   "cell_type": "code",
   "execution_count": null,
   "id": "21",
   "metadata": {},
   "outputs": [],
   "source": [
    "lats = np.array([40.0, 50.0, 60.0])\n",
    "lons = np.array([230.0, 240.0, 250.0])\n",
    "\n",
    "subset_healpix = healpix.dggs.sel_latlon(lats, lons)\n",
    "subset_h3 = h3.dggs.sel_latlon(lats, lons)\n",
    "display(subset_healpix, subset_h3)"
   ]
  },
  {
   "cell_type": "code",
   "execution_count": null,
   "id": "22",
   "metadata": {},
   "outputs": [],
   "source": [
    "from ipywidgets import GridspecLayout\n",
    "\n",
    "grid = GridspecLayout(1, 2)\n",
    "grid[0, 0] = (\n",
    "    subset_h3[\"air\"]\n",
    "    .isel(time=0)\n",
    "    .copy(deep=True)\n",
    "    .dggs.explore(cmap=\"coolwarm\", center=273.15, alpha=0.8)\n",
    ")\n",
    "grid[0, 1] = (\n",
    "    subset_healpix[\"air\"]\n",
    "    .isel(time=0)\n",
    "    .copy(deep=True)\n",
    "    .dggs.explore(cmap=\"coolwarm\", center=273.15, alpha=0.8)\n",
    ")\n",
    "grid"
   ]
  },
  {
   "cell_type": "markdown",
   "id": "23",
   "metadata": {
    "editable": true,
    "slideshow": {
     "slide_type": ""
    },
    "tags": []
   },
   "source": [
    "## Future plans\n",
    "\n",
    "- hierarchical operations: query parents, children, siblings\n",
    "- neighbor search\n",
    "- geometric selection: selection using geometric objects, for example by polygons / circles / lines / points\n",
    "- automatic alignment\n",
    "- ... and more!\n"
   ]
  }
 ],
 "metadata": {
  "language_info": {
   "codemirror_mode": {
    "name": "ipython",
    "version": 3
   },
   "file_extension": ".py",
   "mimetype": "text/x-python",
   "name": "python",
   "nbconvert_exporter": "python",
   "pygments_lexer": "ipython3",
   "version": "3.11.6"
  }
 },
 "nbformat": 4,
 "nbformat_minor": 5
}
