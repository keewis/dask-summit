{
 "cells": [
  {
   "cell_type": "markdown",
   "id": "838f4ed6",
   "metadata": {
    "slideshow": {
     "slide_type": "notes"
    }
   },
   "source": [
    "xarray duck array support\n",
    "\n",
    "outline:\n",
    "- definition duck arrays\n",
    "    - not: array_like (=castable with `np.asarray`)\n",
    "    - needs to have:\n",
    "        - `ndim`\n",
    "        - `shape`\n",
    "        - `dtype`\n",
    "        - `__array_ufunc__`\n",
    "        - `__array_function__` (NEP18)\n",
    "    - future: `__array_module__` and `__array_namespace__`\n",
    "    - examples:\n",
    "        - pydata/sparse\n",
    "        - pint\n",
    "        - cupy\n",
    "        - pytorch?\n",
    "- duck dask arrays:\n",
    "    - definition: duck array and dask collection\n",
    "    - support status unknown (test suite is missing)\n",
    "- extra features:\n",
    "    - custom inline repr: `_repr_inline_`\n",
    "- duck array testing framework:\n",
    "    - using hypothesis\n",
    "    - separated into parts (subclasses)  (inspired by pandas' extension array test framework)\n",
    "    - can be used to test integration of new duck arrays, or even combinations, like:\n",
    "      - `pint(dask(numpy))`\n",
    "      - `pint(dask(sparse))`"
   ]
  },
  {
   "cell_type": "code",
   "execution_count": null,
   "id": "4563bb84",
   "metadata": {
    "slideshow": {
     "slide_type": "skip"
    }
   },
   "outputs": [],
   "source": [
    "import xarray as xr\n",
    "import sparse\n",
    "import pint\n",
    "import dask.array as da\n",
    "import numpy as np\n",
    "\n",
    "rng = np.random.default_rng()\n",
    "ureg = pint.UnitRegistry()"
   ]
  },
  {
   "cell_type": "markdown",
   "id": "f04040e0",
   "metadata": {
    "slideshow": {
     "slide_type": "slide"
    }
   },
   "source": [
    "# status of the duck array integration\n",
    "\n",
    "- duck arrays\n",
    "- integration status\n",
    "- additional support\n",
    "- testing framework"
   ]
  },
  {
   "cell_type": "markdown",
   "id": "e375c2bf",
   "metadata": {
    "slideshow": {
     "slide_type": "slide"
    }
   },
   "source": [
    "## duck arrays"
   ]
  },
  {
   "cell_type": "markdown",
   "id": "ea0a81dd",
   "metadata": {
    "slideshow": {
     "slide_type": "subslide"
    }
   },
   "source": [
    "*duck typing*:\n",
    "> checking for interfaces instead of types (from the [python docs](https://docs.python.org/3/glossary.html#term-duck-typing))"
   ]
  },
  {
   "cell_type": "markdown",
   "id": "cb4afef0",
   "metadata": {
    "slideshow": {
     "slide_type": "subslide"
    }
   },
   "source": [
    "*duck array*:\n",
    "> same interface and semantics as `numpy.ndarray`, but with different behavior"
   ]
  },
  {
   "cell_type": "markdown",
   "id": "e3801320",
   "metadata": {
    "slideshow": {
     "slide_type": "subslide"
    }
   },
   "source": [
    "*array_like*:\n",
    "> anything converted to a `numpy.ndarray` when passed to `numpy.asarray`"
   ]
  },
  {
   "cell_type": "markdown",
   "id": "895daefc",
   "metadata": {
    "slideshow": {
     "slide_type": "subslide"
    }
   },
   "source": [
    "*duck dask array*:\n",
    "> *duck array* and *dask collection*"
   ]
  },
  {
   "cell_type": "markdown",
   "id": "16bb701b",
   "metadata": {
    "slideshow": {
     "slide_type": "subslide"
    }
   },
   "source": [
    "`xarray` requires these properties / methods: (see [Integrating with duck arrays](https://xarray.pydata.org/en/latest/internals/duck-arrays-integration.html))"
   ]
  },
  {
   "cell_type": "markdown",
   "id": "b4b52b2c",
   "metadata": {
    "slideshow": {
     "slide_type": "fragment"
    }
   },
   "source": [
    "- `ndim`, `shape`, `dtype`"
   ]
  },
  {
   "cell_type": "markdown",
   "id": "ae585131",
   "metadata": {
    "slideshow": {
     "slide_type": "fragment"
    }
   },
   "source": [
    "- `__array__` (for plotting / `.values`, etc)"
   ]
  },
  {
   "cell_type": "markdown",
   "id": "9b0ff199",
   "metadata": {
    "slideshow": {
     "slide_type": "fragment"
    }
   },
   "source": [
    "- `__array_ufunc__`, `__array_function__` (to support the `numpy` api)\n",
    "\n",
    "- future: `__array_module__` and `__array_namespace__`"
   ]
  },
  {
   "cell_type": "markdown",
   "id": "4736d890",
   "metadata": {
    "slideshow": {
     "slide_type": "subslide"
    }
   },
   "source": [
    "examples for duck arrays:\n",
    "- `cupy`\n",
    "- `dask`\n",
    "- `pint`\n",
    "- `sparse`"
   ]
  },
  {
   "cell_type": "markdown",
   "id": "34b835fe",
   "metadata": {
    "slideshow": {
     "slide_type": "fragment"
    }
   },
   "source": [
    "potential candidates:\n",
    "- `pytorch`\n",
    "- `pandas` extension arrays\n",
    "- `awkward-array`"
   ]
  },
  {
   "cell_type": "markdown",
   "id": "78f95780",
   "metadata": {},
   "source": [
    "## integration status\n",
    "\n",
    "see https://xarray.pydata.org/en/latest/user-guide/duckarrays.html\n",
    "\n",
    "- most methods work\n",
    "- exceptions:\n",
    "    - indexing (might change with the index refactor)\n",
    "    - external functions (`scipy`, `numbagg`, `bottleneck`)\n",
    "    - functionality in `numpy` (`numpy.vectorize`)"
   ]
  },
  {
   "cell_type": "markdown",
   "id": "462e9eac",
   "metadata": {
    "slideshow": {
     "slide_type": "slide"
    }
   },
   "source": [
    "### nested duck arrays\n",
    "\n",
    "- it is possible to nest duck arrays (if they support it):"
   ]
  },
  {
   "cell_type": "code",
   "execution_count": null,
   "id": "5b8c506b",
   "metadata": {
    "slideshow": {
     "slide_type": "subslide"
    }
   },
   "outputs": [],
   "source": [
    "arr_sparse = sparse.random((100, 100, 10), random_state=0)\n",
    "arr_sparse"
   ]
  },
  {
   "cell_type": "code",
   "execution_count": null,
   "id": "3a1ce944",
   "metadata": {
    "slideshow": {
     "slide_type": "subslide"
    }
   },
   "outputs": [],
   "source": [
    "arr_dask = da.from_array(arr_sparse, chunks=(10, 10, 10))\n",
    "arr_dask"
   ]
  },
  {
   "cell_type": "code",
   "execution_count": null,
   "id": "0a9fbbb7",
   "metadata": {
    "slideshow": {
     "slide_type": "subslide"
    }
   },
   "outputs": [],
   "source": [
    "arr_pint = ureg.Quantity(arr_dask, \"m\")\n",
    "arr_pint"
   ]
  },
  {
   "cell_type": "code",
   "execution_count": null,
   "id": "82371483",
   "metadata": {
    "slideshow": {
     "slide_type": "subslide"
    }
   },
   "outputs": [],
   "source": [
    "arr = xr.DataArray(arr_pint, dims=(\"x\", \"y\", \"z\"))\n",
    "arr"
   ]
  },
  {
   "cell_type": "code",
   "execution_count": null,
   "id": "8dc38694",
   "metadata": {
    "slideshow": {
     "slide_type": "subslide"
    }
   },
   "outputs": [],
   "source": [
    "arr.coarsen({\"x\": 5, \"y\": 5, \"z\": 2}).mean()"
   ]
  },
  {
   "cell_type": "markdown",
   "id": "e17fd519",
   "metadata": {
    "slideshow": {
     "slide_type": "subslide"
    }
   },
   "source": [
    "- unsolved issues:\n",
    "    - `repr`\n",
    "    - construction of layers\n",
    "    - interactions between duck arrays\n",
    "    - editing specific layers (for example, convert `arr` to dense or chunk a `xarray(pint(sparse))` array)\n",
    "    - testing"
   ]
  },
  {
   "cell_type": "markdown",
   "id": "46361019",
   "metadata": {
    "slideshow": {
     "slide_type": "slide"
    }
   },
   "source": [
    "## `_repr_inline_`\n",
    "\n",
    "- hook for custom reprs\n",
    "- written to display units:"
   ]
  },
  {
   "cell_type": "code",
   "execution_count": null,
   "id": "7f26d809",
   "metadata": {
    "slideshow": {
     "slide_type": "fragment"
    }
   },
   "outputs": [],
   "source": [
    "import pint_xarray\n",
    "\n",
    "with xr.set_options(display_expand_data=False):\n",
    "    display(arr)"
   ]
  },
  {
   "cell_type": "markdown",
   "id": "b5b6ee28",
   "metadata": {
    "slideshow": {
     "slide_type": "slide"
    }
   },
   "source": [
    "## duck array testing framework\n",
    "\n",
    "motivation: each duck array behaves differently, support status unclear\n",
    "\n",
    "`xarray.tests.duckarrays.base`\n",
    "- using `hypothesis`\n",
    "- inspired by `pandas`' ExtensionArray test framework\n",
    "- separated into different parts of `xarray`'s API (using subclasses)"
   ]
  }
 ],
 "metadata": {
  "celltoolbar": "Slideshow",
  "kernelspec": {
   "display_name": "Python 3",
   "language": "python",
   "name": "python3"
  },
  "language_info": {
   "codemirror_mode": {
    "name": "ipython",
    "version": 3
   },
   "file_extension": ".py",
   "mimetype": "text/x-python",
   "name": "python",
   "nbconvert_exporter": "python",
   "pygments_lexer": "ipython3",
   "version": "3.9.2"
  }
 },
 "nbformat": 4,
 "nbformat_minor": 5
}
