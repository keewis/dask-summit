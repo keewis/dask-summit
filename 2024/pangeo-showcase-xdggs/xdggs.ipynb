{
 "cells": [
  {
   "cell_type": "markdown",
   "id": "0",
   "metadata": {},
   "source": [
    "# xdggs: using discrete global grid systems with `xarray`"
   ]
  },
  {
   "cell_type": "markdown",
   "id": "1",
   "metadata": {},
   "source": [
    "`xdggs` uses the information contained in the cell ids to perform operations on the cell ids.\n",
    "\n",
    "It currently includes built-in support for:\n",
    "- healpix (using `cds-healpix-python`)\n",
    "- h3 (using `h3ronpy`)\n",
    "\n",
    "Any operations on the data will then use standard `xarray` methods."
   ]
  },
  {
   "cell_type": "markdown",
   "id": "2",
   "metadata": {},
   "source": [
    "Github: https://github.com/xarray-contrib/xdggs\n",
    "\n",
    "Documentation: https://xdggs.readthedocs.io\n",
    "\n",
    "Install from PyPI:\n",
    "```sh\n",
    "pip install xdggs\n",
    "```\n",
    "\n",
    "(Soon on `conda-forge` as well)"
   ]
  },
  {
   "cell_type": "markdown",
   "id": "3",
   "metadata": {},
   "source": [
    "## opening data\n",
    "\n",
    "`xdggs` only works for data already on a DGGS. If that is not already the case, the dataset will need to be regridded first.\n",
    "\n",
    "```{note}\n",
    "`xdggs` explicitly excludes regridding from / to a DGGS, as that is better solved by a separate, more specialized package.\n",
    "\n",
    "In the following, we'll use the `air_temperature` dataset from `xarray`'s tutorial data that has already been interpolated to a DGGS. We'll also choose `h3` for demonstration purposes, but you can choose any of the supported DGGS and the code will work in the same way.\n",
    "```"
   ]
  },
  {
   "cell_type": "code",
   "execution_count": null,
   "id": "4",
   "metadata": {},
   "outputs": [],
   "source": [
    "import xarray as xr\n",
    "import xdggs\n",
    "\n",
    "xr.set_options(display_expand_data=False, display_expand_attrs=False);"
   ]
  },
  {
   "cell_type": "code",
   "execution_count": null,
   "id": "5",
   "metadata": {},
   "outputs": [],
   "source": [
    "ds = xdggs.tutorial.open_dataset(\"air_temperature\", \"h3\").load()\n",
    "ds"
   ]
  },
  {
   "cell_type": "code",
   "execution_count": null,
   "id": "6",
   "metadata": {
    "jupyter": {
     "source_hidden": true
    }
   },
   "outputs": [],
   "source": [
    "# open the data\n",
    "ds = xdggs.tutorial.open_dataset(\"air_temperature\", \"h3\").load()\n",
    "ds"
   ]
  },
  {
   "cell_type": "markdown",
   "id": "7",
   "metadata": {},
   "source": [
    "To then interact with the cell ids, we need to create an index on the cell ids:\n",
    "\n",
    "```{note}\n",
    "This makes use of the attributes on the `cell_ids` variable. The required attributes are:\n",
    "- `grid_name`: the name of the grid\n",
    "- `level`: the grid hierarchical level. Corresponds to the resolution of the grid.\n",
    "\n",
    "Grids can define more parameters, like the indexing scheme for `healpix`.\n",
    "\n",
    "Note that currently the variable name is hard-coded to `cell_ids`, but this will be customizable (and possibly auto-detected) in the future.\n",
    "```"
   ]
  },
  {
   "cell_type": "code",
   "execution_count": null,
   "id": "8",
   "metadata": {},
   "outputs": [],
   "source": [
    "ds = ds.pipe(xdggs.decode)\n",
    "ds"
   ]
  },
  {
   "cell_type": "code",
   "execution_count": null,
   "id": "9",
   "metadata": {
    "jupyter": {
     "source_hidden": true
    }
   },
   "outputs": [],
   "source": [
    "# create the index\n",
    "ds = ds.pipe(xdggs.decode)\n",
    "ds"
   ]
  },
  {
   "cell_type": "markdown",
   "id": "10",
   "metadata": {},
   "source": [
    "## plotting\n",
    "\n",
    "To get a good idea of what the data is about, we need to plot. For interactive visualization, `xdggs` interfaces with [lonboard](https://github.com/developmentseed/lonboard):\n",
    "\n",
    "```{note}\n",
    "This is currently restricted to 1D `DataArray`s, but in the future will include a slider for additional dimensions.\n",
    "```"
   ]
  },
  {
   "cell_type": "code",
   "execution_count": null,
   "id": "11",
   "metadata": {},
   "outputs": [],
   "source": [
    "ds[\"air\"].isel(time=15).dggs.explore(alpha=0.8, center=273.15, cmap=\"coolwarm\")"
   ]
  },
  {
   "cell_type": "code",
   "execution_count": null,
   "id": "12",
   "metadata": {
    "jupyter": {
     "source_hidden": true
    }
   },
   "outputs": [],
   "source": [
    "# visualize the data\n",
    "ds[\"air\"].isel(time=15).dggs.explore(alpha=0.8, center=273.15, cmap=\"coolwarm\")"
   ]
  },
  {
   "cell_type": "markdown",
   "id": "13",
   "metadata": {},
   "source": [
    "## selecting data\n",
    "\n",
    "Since the cell ids contain information about the cells and their extent, we can subset the data using the index.\n",
    "\n",
    "```{note}\n",
    "At the moment, we can only select individual points (`xarray` calls this [vectorized indexing](https://docs.xarray.dev/en/stable/user-guide/indexing.html#vectorized-indexing)), but there are plans to extend this to bounding boxes or arbitrary geometries.\n",
    "```"
   ]
  },
  {
   "cell_type": "code",
   "execution_count": null,
   "id": "14",
   "metadata": {},
   "outputs": [],
   "source": [
    "data = ds.drop_vars([\"lat\", \"lon\"])\n",
    "\n",
    "lat = xr.DataArray([24, 30, 40, 50, 60], dims=\"points\")\n",
    "lon = xr.DataArray([293, 240, -100, -80, -60], dims=\"points\")"
   ]
  },
  {
   "cell_type": "code",
   "execution_count": null,
   "id": "15",
   "metadata": {},
   "outputs": [],
   "source": [
    "subset = data.dggs.sel_latlon(latitude=lat, longitude=lon)\n",
    "subset"
   ]
  },
  {
   "cell_type": "code",
   "execution_count": null,
   "id": "16",
   "metadata": {},
   "outputs": [],
   "source": [
    "subset[\"air\"].isel(time=15).dggs.explore(alpha=0.8, center=273.15, cmap=\"coolwarm\")"
   ]
  },
  {
   "cell_type": "code",
   "execution_count": null,
   "id": "17",
   "metadata": {
    "jupyter": {
     "source_hidden": true
    }
   },
   "outputs": [],
   "source": [
    "# select using points\n",
    "subset = ds.dggs.sel_latlon(latitude=lat, longitude=lon)\n",
    "subset[\"air\"].isel(time=15).dggs.explore(alpha=0.8, center=273.15, cmap=\"coolwarm\")"
   ]
  },
  {
   "cell_type": "markdown",
   "id": "18",
   "metadata": {},
   "source": [
    "## deriving information\n",
    "\n",
    "To interact with other libraries that don't know how to work with cell ids, we need to be able to compute the cell center coordinates and cell boundaries."
   ]
  },
  {
   "cell_type": "markdown",
   "id": "19",
   "metadata": {},
   "source": [
    "### cell centers"
   ]
  },
  {
   "cell_type": "code",
   "execution_count": null,
   "id": "20",
   "metadata": {},
   "outputs": [],
   "source": [
    "expected = (\n",
    "    ds[[\"lat\", \"lon\"]]\n",
    "    .rename({\"lat\": \"latitude\", \"lon\": \"longitude\"})\n",
    "    .drop_vars(\"cell_ids\")\n",
    ")"
   ]
  },
  {
   "cell_type": "code",
   "execution_count": null,
   "id": "21",
   "metadata": {},
   "outputs": [],
   "source": [
    "actual = data.dggs.cell_centers()\n",
    "xr.testing.assert_equal(actual, expected)"
   ]
  },
  {
   "cell_type": "code",
   "execution_count": null,
   "id": "22",
   "metadata": {
    "jupyter": {
     "source_hidden": true
    }
   },
   "outputs": [],
   "source": [
    "# compute cell centers\n",
    "cell_centers = ds.dggs.cell_centers()\n",
    "\n",
    "xr.testing.assert_allclose(cell_centers, expected)"
   ]
  },
  {
   "cell_type": "markdown",
   "id": "23",
   "metadata": {},
   "source": [
    "### cell boundaries"
   ]
  },
  {
   "cell_type": "code",
   "execution_count": null,
   "id": "24",
   "metadata": {},
   "outputs": [],
   "source": [
    "data.dggs.cell_boundaries()"
   ]
  },
  {
   "cell_type": "code",
   "execution_count": null,
   "id": "25",
   "metadata": {
    "jupyter": {
     "source_hidden": true
    }
   },
   "outputs": [],
   "source": [
    "# compute cell boundaries\n",
    "cell_boundaries = ds.dggs.cell_boundaries()\n",
    "cell_boundaries"
   ]
  },
  {
   "cell_type": "markdown",
   "id": "26",
   "metadata": {},
   "source": [
    "## future work"
   ]
  },
  {
   "cell_type": "markdown",
   "id": "27",
   "metadata": {},
   "source": [
    "There are still a lot of exciting new features planned (as time permits):\n",
    "- hierarchy operations:\n",
    "    - compute parents / children / siblings\n",
    "    - neighbours search\n",
    "- indexing using:\n",
    "    - geometries (polygon, circle, ...)\n",
    "    - bounding box\n",
    "- grid alignment (\"overlap between two grids\")\n",
    "- plotting:\n",
    "    - allow plotting n-dimensional data using sliders\n",
    "    - more customization (e.g. colorbar)\n",
    "- plugin system for third-party DGGS implementations:\n",
    "    - publicly expose and document the plugin system\n",
    "- interface with other libraries (`xvec`, `uxarray`, ...)"
   ]
  }
 ],
 "metadata": {
  "language_info": {
   "codemirror_mode": {
    "name": "ipython",
    "version": 3
   },
   "file_extension": ".py",
   "mimetype": "text/x-python",
   "name": "python",
   "nbconvert_exporter": "python",
   "pygments_lexer": "ipython3",
   "version": "3.11.6"
  }
 },
 "nbformat": 4,
 "nbformat_minor": 5
}
