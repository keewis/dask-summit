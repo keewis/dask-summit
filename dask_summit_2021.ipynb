{
 "cells": [
  {
   "cell_type": "code",
   "execution_count": null,
   "id": "4563bb84",
   "metadata": {
    "slideshow": {
     "slide_type": "skip"
    }
   },
   "outputs": [],
   "source": [
    "import xarray as xr\n",
    "import sparse\n",
    "import pint\n",
    "import dask.array as da\n",
    "import numpy as np\n",
    "\n",
    "rng = np.random.default_rng()\n",
    "ureg = pint.UnitRegistry()"
   ]
  },
  {
   "cell_type": "markdown",
   "id": "63f0e095",
   "metadata": {
    "slideshow": {
     "slide_type": "slide"
    }
   },
   "source": [
    "# duck arrays in xarray"
   ]
  },
  {
   "cell_type": "markdown",
   "id": "f04040e0",
   "metadata": {
    "slideshow": {
     "slide_type": "subslide"
    }
   },
   "source": [
    "- what are duck arrays?\n",
    "- integration status\n",
    "- additional support functions"
   ]
  },
  {
   "cell_type": "markdown",
   "id": "e375c2bf",
   "metadata": {
    "slideshow": {
     "slide_type": "slide"
    }
   },
   "source": [
    "## what are duck arrays?"
   ]
  },
  {
   "cell_type": "markdown",
   "id": "cb4afef0",
   "metadata": {
    "slideshow": {
     "slide_type": "subslide"
    }
   },
   "source": [
    "*duck array*:\n",
    "> Duck arrays are array implementations that look and behave like numpy arrays."
   ]
  },
  {
   "cell_type": "markdown",
   "id": "fba90a49",
   "metadata": {
    "slideshow": {
     "slide_type": "subslide"
    }
   },
   "source": [
    "*array_like* (from [numpy](https://numpy.org/doc/1.20/glossary.html#term-array-like)):\n",
    "> Any argument accepted by `numpy.array` is *array_like*."
   ]
  },
  {
   "cell_type": "markdown",
   "id": "aaa1e1cb",
   "metadata": {
    "slideshow": {
     "slide_type": "subslide"
    }
   },
   "source": [
    "xarray requires:\n",
    "- properties: `ndim`, `shape`, `dtype`\n",
    "- protocols:\n",
    "    - `__array__`: `np.array`\n",
    "    - `__array_ufunc__`: ufuncs like `np.sin`\n",
    "    - `__array_function__`: most of remaining `numpy` API"
   ]
  },
  {
   "cell_type": "markdown",
   "id": "aef9573d",
   "metadata": {
    "slideshow": {
     "slide_type": "subslide"
    }
   },
   "source": [
    "- protocols:\n",
    "    - future: `__array_module__` (NEP37) or `__array_namespace__` (NEP47)"
   ]
  },
  {
   "cell_type": "markdown",
   "id": "be40872b",
   "metadata": {
    "slideshow": {
     "slide_type": "subslide"
    }
   },
   "source": [
    "examples for duck arrays:\n",
    "- `cupy`: CUDA-accelerated version of numpy\n",
    "- (`dask`)\n",
    "- `pint`: array with physical units\n",
    "- `sparse`: multi-dimensional sparse arrays"
   ]
  },
  {
   "cell_type": "markdown",
   "id": "6017e332",
   "metadata": {
    "slideshow": {
     "slide_type": "slide"
    }
   },
   "source": [
    "## integration status"
   ]
  },
  {
   "cell_type": "markdown",
   "id": "14192011",
   "metadata": {
    "slideshow": {
     "slide_type": "subslide"
    }
   },
   "source": [
    "- tests for `pint` and `sparse`"
   ]
  },
  {
   "cell_type": "markdown",
   "id": "b4c6f059",
   "metadata": {
    "slideshow": {
     "slide_type": "fragment"
    }
   },
   "source": [
    "- for `pint`: most methods keep the data as duck array"
   ]
  },
  {
   "cell_type": "markdown",
   "id": "673343bb",
   "metadata": {
    "slideshow": {
     "slide_type": "fragment"
    }
   },
   "source": [
    "- but ..."
   ]
  },
  {
   "cell_type": "markdown",
   "id": "1f8734d9",
   "metadata": {
    "slideshow": {
     "slide_type": "subslide"
    }
   },
   "source": [
    "exceptions:\n",
    "\n",
    "- indexing (only an issue with dimension coordinates):\n",
    "    - `sel`, `loc`\n",
    "    - `drop_sel`\n",
    "    - `reindex` / `reindex_like`"
   ]
  },
  {
   "cell_type": "markdown",
   "id": "6a7f54eb",
   "metadata": {
    "slideshow": {
     "slide_type": "subslide"
    }
   },
   "source": [
    "exceptions:\n",
    "\n",
    "- functionality based on external libraries:\n",
    "  - `scipy` (`interp` / `interp_like`, `interpolate_na`)\n",
    "  - `numbagg` (`rolling_exp`)\n",
    "  - `bottleneck` (`ffill`, `bfill`)"
   ]
  },
  {
   "cell_type": "markdown",
   "id": "a9ac1540",
   "metadata": {
    "slideshow": {
     "slide_type": "subslide"
    }
   },
   "source": [
    "exceptions:\n",
    "\n",
    "- functionality in `numpy`\n",
    "    - `numpy.vectorize` (`interpolate_na`, `apply_ufunc` with `vectorize=True`)"
   ]
  },
  {
   "cell_type": "markdown",
   "id": "e710761f",
   "metadata": {
    "slideshow": {
     "slide_type": "subslide"
    }
   },
   "source": [
    "each duck array implementation behaves differently "
   ]
  },
  {
   "cell_type": "markdown",
   "id": "c0571c90",
   "metadata": {
    "slideshow": {
     "slide_type": "fragment"
    }
   },
   "source": [
    "→ support status unclear"
   ]
  },
  {
   "cell_type": "markdown",
   "id": "b875f629",
   "metadata": {
    "slideshow": {
     "slide_type": "slide"
    }
   },
   "source": [
    "### duck array testing framework"
   ]
  },
  {
   "cell_type": "markdown",
   "id": "4da2137f",
   "metadata": {
    "slideshow": {
     "slide_type": "subslide"
    }
   },
   "source": [
    "**`xarray.tests.duckarrays.base`**"
   ]
  },
  {
   "cell_type": "markdown",
   "id": "ff25bd22",
   "metadata": {
    "slideshow": {
     "slide_type": "fragment"
    }
   },
   "source": [
    "- separated into different parts of `xarray`'s API (using subclasses)"
   ]
  },
  {
   "cell_type": "markdown",
   "id": "495f5c4a",
   "metadata": {
    "slideshow": {
     "slide_type": "fragment"
    }
   },
   "source": [
    "- using `hypothesis` (fuzzer)"
   ]
  },
  {
   "cell_type": "markdown",
   "id": "5a326bd3",
   "metadata": {
    "slideshow": {
     "slide_type": "fragment"
    }
   },
   "source": [
    "- can be used to check support for duck arrays or nested duck arrays"
   ]
  },
  {
   "cell_type": "markdown",
   "id": "a1438ee4",
   "metadata": {
    "slideshow": {
     "slide_type": "subslide"
    }
   },
   "source": [
    "examples for nested duck arrays:\n",
    "  - `pint(dask)`\n",
    "  - `dask(sparse)`\n",
    "  - `pint(dask(sparse))`"
   ]
  },
  {
   "cell_type": "code",
   "execution_count": null,
   "id": "a418c0cd",
   "metadata": {
    "slideshow": {
     "slide_type": "subslide"
    }
   },
   "outputs": [],
   "source": [
    "x_sparse = sparse.random(shape=(100, 100), random_state=0)\n",
    "x_dask = da.from_array(x_sparse, chunks=(1, 100))\n",
    "x_pint = ureg.Quantity(x_dask, \"m\")"
   ]
  },
  {
   "cell_type": "code",
   "execution_count": null,
   "id": "aa7ca69d",
   "metadata": {
    "slideshow": {
     "slide_type": "subslide"
    }
   },
   "outputs": [],
   "source": [
    "arr = xr.DataArray(x_pint, dims=(\"x\", \"y\"))\n",
    "arr"
   ]
  },
  {
   "cell_type": "markdown",
   "id": "36fc2ef2",
   "metadata": {
    "slideshow": {
     "slide_type": "slide"
    }
   },
   "source": [
    "## additional support functionality: `_repr_inline_`"
   ]
  },
  {
   "cell_type": "code",
   "execution_count": null,
   "id": "b594bfbd",
   "metadata": {
    "slideshow": {
     "slide_type": "skip"
    }
   },
   "outputs": [],
   "source": [
    "xr.set_options(display_expand_data=False)"
   ]
  },
  {
   "cell_type": "code",
   "execution_count": null,
   "id": "8ffa5606",
   "metadata": {
    "slideshow": {
     "slide_type": "skip"
    }
   },
   "outputs": [],
   "source": [
    "def format_array(x, max_width=50):\n",
    "    arr = xr.DataArray(x)\n",
    "    return xr.core.formatting.inline_variable_array_repr(\n",
    "        arr.variable, max_width=max_width\n",
    "    )"
   ]
  },
  {
   "cell_type": "markdown",
   "id": "124d8a83",
   "metadata": {
    "slideshow": {
     "slide_type": "subslide"
    }
   },
   "source": [
    "- `repr` of duck arrays should contain `shape`, `dtype`, and specific metadata"
   ]
  },
  {
   "cell_type": "markdown",
   "id": "9ca73b7d",
   "metadata": {
    "slideshow": {
     "slide_type": "fragment"
    }
   },
   "source": [
    "- but: `xarray` variable repr contains `dims` and `dtype`"
   ]
  },
  {
   "cell_type": "code",
   "execution_count": null,
   "id": "eab78663",
   "metadata": {
    "slideshow": {
     "slide_type": "subslide"
    }
   },
   "outputs": [],
   "source": [
    "arr = xr.DataArray(\n",
    "    data=np.arange(200).reshape(20, 10),\n",
    "    coords={\n",
    "        \"a\": (\"x\", ureg.Quantity(np.ones(20), \"m\")),\n",
    "        \"b\": (\"y\", da.zeros(10, chunks=5)),\n",
    "    },\n",
    "    dims=(\"x\", \"y\"),\n",
    ")\n",
    "print(str(arr))"
   ]
  },
  {
   "cell_type": "markdown",
   "id": "0070ef87",
   "metadata": {
    "slideshow": {
     "slide_type": "subslide"
    }
   },
   "source": [
    "hard-coded custom reprs for `dask` and `sparse`:"
   ]
  },
  {
   "cell_type": "code",
   "execution_count": null,
   "id": "321692aa",
   "metadata": {
    "slideshow": {
     "slide_type": "subslide"
    }
   },
   "outputs": [],
   "source": [
    "arr = sparse.random(shape=(100, 100), random_state=0)\n",
    "\n",
    "print(repr(arr))"
   ]
  },
  {
   "cell_type": "code",
   "execution_count": null,
   "id": "713a6c1a",
   "metadata": {
    "slideshow": {
     "slide_type": "fragment"
    }
   },
   "outputs": [],
   "source": [
    "print(format_array(arr))"
   ]
  },
  {
   "cell_type": "code",
   "execution_count": null,
   "id": "7cf8c6a5",
   "metadata": {
    "slideshow": {
     "slide_type": "subslide"
    }
   },
   "outputs": [],
   "source": [
    "arr = da.ones(shape=(100, 100), chunks=(10, 10))\n",
    "print(repr(arr))"
   ]
  },
  {
   "cell_type": "code",
   "execution_count": null,
   "id": "df945800",
   "metadata": {
    "slideshow": {
     "slide_type": "fragment"
    }
   },
   "outputs": [],
   "source": [
    "print(format_array(arr))"
   ]
  },
  {
   "cell_type": "markdown",
   "id": "f9964e1c",
   "metadata": {
    "slideshow": {
     "slide_type": "subslide"
    }
   },
   "source": [
    "```python\n",
    "def _repr_inline_(self, max_width):\n",
    "    pass\n",
    "```"
   ]
  },
  {
   "cell_type": "code",
   "execution_count": null,
   "id": "b3b4a57e",
   "metadata": {
    "slideshow": {
     "slide_type": "subslide"
    }
   },
   "outputs": [],
   "source": [
    "arr = ureg.Quantity(np.ones(shape=(100, 100)), \"m\")\n",
    "print(format_array(arr))"
   ]
  },
  {
   "cell_type": "code",
   "execution_count": null,
   "id": "889220af",
   "metadata": {
    "slideshow": {
     "slide_type": "fragment"
    }
   },
   "outputs": [],
   "source": [
    "import pint_xarray"
   ]
  },
  {
   "cell_type": "code",
   "execution_count": null,
   "id": "c71f872b",
   "metadata": {
    "slideshow": {
     "slide_type": "fragment"
    }
   },
   "outputs": [],
   "source": [
    "arr = ureg.Quantity(np.ones(shape=(100, 100)), \"m\")\n",
    "print(format_array(arr))"
   ]
  },
  {
   "cell_type": "markdown",
   "id": "c4c34cf6",
   "metadata": {
    "slideshow": {
     "slide_type": "slide"
    }
   },
   "source": [
    "<p>\n",
    "<center><big><strong>Thank you!</strong></big></center>\n",
    "</p>\n",
    "\n",
    "In summary:\n",
    "- duck arrays: arrays implementing the `numpy` interface\n",
    "- most of the `xarray` API supports duck arrays\n",
    "- support for a specific duck array: tests are needed"
   ]
  }
 ],
 "metadata": {
  "celltoolbar": "Slideshow",
  "kernelspec": {
   "display_name": "Python 3",
   "language": "python",
   "name": "python3"
  },
  "language_info": {
   "codemirror_mode": {
    "name": "ipython",
    "version": 3
   },
   "file_extension": ".py",
   "mimetype": "text/x-python",
   "name": "python",
   "nbconvert_exporter": "python",
   "pygments_lexer": "ipython3",
   "version": "3.9.2"
  }
 },
 "nbformat": 4,
 "nbformat_minor": 5
}
