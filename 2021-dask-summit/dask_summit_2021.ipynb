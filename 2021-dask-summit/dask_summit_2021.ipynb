{
 "cells": [
  {
   "cell_type": "code",
   "execution_count": null,
   "id": "0",
   "metadata": {
    "slideshow": {
     "slide_type": "skip"
    }
   },
   "outputs": [],
   "source": [
    "import dask.array as da\n",
    "import numpy as np\n",
    "import pint\n",
    "import sparse\n",
    "import xarray as xr\n",
    "\n",
    "rng = np.random.default_rng()\n",
    "ureg = pint.UnitRegistry()"
   ]
  },
  {
   "cell_type": "markdown",
   "id": "1",
   "metadata": {
    "slideshow": {
     "slide_type": "slide"
    }
   },
   "source": [
    "<center><h1>duck arrays in xarray</h1></center>\n",
    "\n",
    "<p>\n",
    "<center>Justus Magin / @keewis</center>\n",
    "</p>"
   ]
  },
  {
   "cell_type": "markdown",
   "id": "2",
   "metadata": {
    "slideshow": {
     "slide_type": "subslide"
    }
   },
   "source": [
    "- what are duck arrays?\n",
    "- integration status\n",
    "- additional support functions"
   ]
  },
  {
   "cell_type": "markdown",
   "id": "3",
   "metadata": {
    "slideshow": {
     "slide_type": "slide"
    }
   },
   "source": [
    "## what are duck arrays?"
   ]
  },
  {
   "cell_type": "markdown",
   "id": "4",
   "metadata": {
    "slideshow": {
     "slide_type": "subslide"
    }
   },
   "source": [
    "*duck array*:\n",
    "> Duck arrays are array implementations that look and behave like numpy arrays."
   ]
  },
  {
   "cell_type": "markdown",
   "id": "5",
   "metadata": {
    "slideshow": {
     "slide_type": "subslide"
    }
   },
   "source": [
    "*array_like* (from [numpy](https://numpy.org/doc/1.20/glossary.html#term-array-like)):\n",
    "> Any argument accepted by `numpy.array` is *array_like*."
   ]
  },
  {
   "cell_type": "markdown",
   "id": "6",
   "metadata": {
    "slideshow": {
     "slide_type": "subslide"
    }
   },
   "source": [
    "xarray requires:\n",
    "- properties: `ndim`, `shape`, `dtype`\n",
    "- protocols:\n",
    "    - `__array__`: `np.array`\n",
    "    - `__array_ufunc__`: ufuncs like `np.sin`\n",
    "    - `__array_function__`: most of remaining `numpy` API"
   ]
  },
  {
   "cell_type": "markdown",
   "id": "7",
   "metadata": {
    "slideshow": {
     "slide_type": "subslide"
    }
   },
   "source": [
    "- protocols:\n",
    "    - future: `__array_module__` (NEP37) or `__array_namespace__` (NEP47)"
   ]
  },
  {
   "cell_type": "markdown",
   "id": "8",
   "metadata": {
    "slideshow": {
     "slide_type": "subslide"
    }
   },
   "source": [
    "examples for duck arrays:\n",
    "- `cupy`: CUDA-accelerated version of numpy\n",
    "- (`dask`)\n",
    "- `pint`: array with physical units\n",
    "- `sparse`: multi-dimensional sparse arrays"
   ]
  },
  {
   "cell_type": "markdown",
   "id": "9",
   "metadata": {
    "slideshow": {
     "slide_type": "slide"
    }
   },
   "source": [
    "## integration status"
   ]
  },
  {
   "cell_type": "markdown",
   "id": "10",
   "metadata": {
    "slideshow": {
     "slide_type": "subslide"
    }
   },
   "source": [
    "- tests for `pint` and `sparse`"
   ]
  },
  {
   "cell_type": "markdown",
   "id": "11",
   "metadata": {
    "slideshow": {
     "slide_type": "fragment"
    }
   },
   "source": [
    "- for `pint`: most methods keep the data as duck array"
   ]
  },
  {
   "cell_type": "markdown",
   "id": "12",
   "metadata": {
    "slideshow": {
     "slide_type": "fragment"
    }
   },
   "source": [
    "- but ..."
   ]
  },
  {
   "cell_type": "markdown",
   "id": "13",
   "metadata": {
    "slideshow": {
     "slide_type": "subslide"
    }
   },
   "source": [
    "exceptions:\n",
    "\n",
    "- indexing (only an issue with dimension coordinates):\n",
    "    - `sel`, `loc`\n",
    "    - `drop_sel`\n",
    "    - `reindex` / `reindex_like`"
   ]
  },
  {
   "cell_type": "markdown",
   "id": "14",
   "metadata": {
    "slideshow": {
     "slide_type": "subslide"
    }
   },
   "source": [
    "exceptions:\n",
    "\n",
    "- functionality based on external libraries:\n",
    "  - `scipy` (`interp` / `interp_like`, `interpolate_na`)\n",
    "  - `numbagg` (`rolling_exp`)\n",
    "  - `bottleneck` (`ffill`, `bfill`)"
   ]
  },
  {
   "cell_type": "markdown",
   "id": "15",
   "metadata": {
    "slideshow": {
     "slide_type": "subslide"
    }
   },
   "source": [
    "exceptions:\n",
    "\n",
    "- functionality in `numpy`\n",
    "    - `numpy.vectorize` (`interpolate_na`, `apply_ufunc` with `vectorize=True`)"
   ]
  },
  {
   "cell_type": "markdown",
   "id": "16",
   "metadata": {
    "slideshow": {
     "slide_type": "subslide"
    }
   },
   "source": [
    "each duck array implementation behaves differently "
   ]
  },
  {
   "cell_type": "markdown",
   "id": "17",
   "metadata": {
    "slideshow": {
     "slide_type": "fragment"
    }
   },
   "source": [
    "→ support status unclear"
   ]
  },
  {
   "cell_type": "markdown",
   "id": "18",
   "metadata": {
    "slideshow": {
     "slide_type": "slide"
    }
   },
   "source": [
    "### duck array testing framework"
   ]
  },
  {
   "cell_type": "markdown",
   "id": "19",
   "metadata": {
    "slideshow": {
     "slide_type": "subslide"
    }
   },
   "source": [
    "**`xarray.tests.duckarrays.base`**"
   ]
  },
  {
   "cell_type": "markdown",
   "id": "20",
   "metadata": {
    "slideshow": {
     "slide_type": "fragment"
    }
   },
   "source": [
    "- separated into different parts of `xarray`'s API (using subclasses)"
   ]
  },
  {
   "cell_type": "markdown",
   "id": "21",
   "metadata": {
    "slideshow": {
     "slide_type": "fragment"
    }
   },
   "source": [
    "- using `hypothesis` (fuzzer)"
   ]
  },
  {
   "cell_type": "markdown",
   "id": "22",
   "metadata": {
    "slideshow": {
     "slide_type": "fragment"
    }
   },
   "source": [
    "- can be used to check support for duck arrays or nested duck arrays"
   ]
  },
  {
   "cell_type": "markdown",
   "id": "23",
   "metadata": {
    "slideshow": {
     "slide_type": "subslide"
    }
   },
   "source": [
    "examples for nested duck arrays:\n",
    "  - `pint(dask)`\n",
    "  - `dask(sparse)`\n",
    "  - `pint(dask(sparse))`"
   ]
  },
  {
   "cell_type": "markdown",
   "id": "24",
   "metadata": {
    "slideshow": {
     "slide_type": "slide"
    }
   },
   "source": [
    "## additional support functionality: `_repr_inline_`"
   ]
  },
  {
   "cell_type": "code",
   "execution_count": null,
   "id": "25",
   "metadata": {
    "slideshow": {
     "slide_type": "skip"
    }
   },
   "outputs": [],
   "source": [
    "xr.set_options(display_expand_data=False)"
   ]
  },
  {
   "cell_type": "code",
   "execution_count": null,
   "id": "26",
   "metadata": {
    "slideshow": {
     "slide_type": "skip"
    }
   },
   "outputs": [],
   "source": [
    "def format_array(x, max_width=50):\n",
    "    arr = xr.DataArray(x)\n",
    "    return xr.core.formatting.inline_variable_array_repr(\n",
    "        arr.variable, max_width=max_width\n",
    "    )"
   ]
  },
  {
   "cell_type": "markdown",
   "id": "27",
   "metadata": {
    "slideshow": {
     "slide_type": "subslide"
    }
   },
   "source": [
    "- `repr` of duck arrays should contain `shape`, `dtype`, and specific metadata"
   ]
  },
  {
   "cell_type": "markdown",
   "id": "28",
   "metadata": {
    "slideshow": {
     "slide_type": "fragment"
    }
   },
   "source": [
    "- but: `xarray` variable repr contains `dims` and `dtype`"
   ]
  },
  {
   "cell_type": "code",
   "execution_count": null,
   "id": "29",
   "metadata": {
    "slideshow": {
     "slide_type": "subslide"
    }
   },
   "outputs": [],
   "source": [
    "arr = xr.DataArray(\n",
    "    data=np.arange(200).reshape(20, 10),\n",
    "    coords={\n",
    "        \"a\": (\"x\", ureg.Quantity(np.ones(20), \"m\")),\n",
    "        \"b\": (\"y\", da.zeros(10, chunks=5)),\n",
    "    },\n",
    "    dims=(\"x\", \"y\"),\n",
    ")\n",
    "print(str(arr))"
   ]
  },
  {
   "cell_type": "markdown",
   "id": "30",
   "metadata": {
    "slideshow": {
     "slide_type": "subslide"
    }
   },
   "source": [
    "hard-coded custom reprs for `dask` and `sparse`:"
   ]
  },
  {
   "cell_type": "code",
   "execution_count": null,
   "id": "31",
   "metadata": {
    "slideshow": {
     "slide_type": "subslide"
    }
   },
   "outputs": [],
   "source": [
    "arr = sparse.random(shape=(100, 100), random_state=0)\n",
    "\n",
    "print(repr(arr))"
   ]
  },
  {
   "cell_type": "code",
   "execution_count": null,
   "id": "32",
   "metadata": {
    "slideshow": {
     "slide_type": "fragment"
    }
   },
   "outputs": [],
   "source": [
    "print(format_array(arr))"
   ]
  },
  {
   "cell_type": "code",
   "execution_count": null,
   "id": "33",
   "metadata": {
    "slideshow": {
     "slide_type": "subslide"
    }
   },
   "outputs": [],
   "source": [
    "arr = da.ones(shape=(100, 100), chunks=(10, 10))\n",
    "print(repr(arr))"
   ]
  },
  {
   "cell_type": "code",
   "execution_count": null,
   "id": "34",
   "metadata": {
    "slideshow": {
     "slide_type": "fragment"
    }
   },
   "outputs": [],
   "source": [
    "print(format_array(arr))"
   ]
  },
  {
   "cell_type": "markdown",
   "id": "35",
   "metadata": {
    "slideshow": {
     "slide_type": "subslide"
    }
   },
   "source": [
    "```python\n",
    "def _repr_inline_(self, max_width):\n",
    "    pass\n",
    "```"
   ]
  },
  {
   "cell_type": "code",
   "execution_count": null,
   "id": "36",
   "metadata": {
    "slideshow": {
     "slide_type": "subslide"
    }
   },
   "outputs": [],
   "source": [
    "arr = ureg.Quantity(np.ones(shape=(100, 100)), \"m\")\n",
    "print(format_array(arr))"
   ]
  },
  {
   "cell_type": "code",
   "execution_count": null,
   "id": "37",
   "metadata": {
    "slideshow": {
     "slide_type": "fragment"
    }
   },
   "outputs": [],
   "source": [
    "import pint_xarray  # noqa: F401"
   ]
  },
  {
   "cell_type": "code",
   "execution_count": null,
   "id": "38",
   "metadata": {
    "slideshow": {
     "slide_type": "fragment"
    }
   },
   "outputs": [],
   "source": [
    "arr = ureg.Quantity(np.ones(shape=(100, 100)), \"m\")\n",
    "print(format_array(arr))"
   ]
  },
  {
   "cell_type": "markdown",
   "id": "39",
   "metadata": {
    "slideshow": {
     "slide_type": "slide"
    }
   },
   "source": [
    "<p>\n",
    "<center><big><strong>Thank you!</strong></big></center>\n",
    "</p>\n",
    "\n",
    "In summary:\n",
    "- duck arrays: arrays implementing the `numpy` interface\n",
    "- most of the `xarray` API supports duck arrays\n",
    "- support for a specific duck array: tests are needed"
   ]
  }
 ],
 "metadata": {
  "celltoolbar": "Slideshow",
  "language_info": {
   "codemirror_mode": {
    "name": "ipython",
    "version": 3
   },
   "file_extension": ".py",
   "mimetype": "text/x-python",
   "name": "python",
   "nbconvert_exporter": "python",
   "pygments_lexer": "ipython3",
   "version": "3.11.6"
  }
 },
 "nbformat": 4,
 "nbformat_minor": 5
}
