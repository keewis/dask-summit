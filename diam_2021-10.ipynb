{
 "cells": [
  {
   "cell_type": "code",
   "execution_count": null,
   "id": "f7e9b77c",
   "metadata": {
    "slideshow": {
     "slide_type": "skip"
    }
   },
   "outputs": [],
   "source": [
    "import xarray as xr\n",
    "import rioxarray\n",
    "import pint_xarray\n",
    "import cf_xarray\n",
    "\n",
    "import xoak\n",
    "import numpy as np\n",
    "import pandas as pd\n",
    "\n",
    "xr.set_options(display_style=\"text\", display_expand_data=False)"
   ]
  },
  {
   "cell_type": "markdown",
   "id": "21755589",
   "metadata": {
    "slideshow": {
     "slide_type": "slide"
    }
   },
   "source": [
    "<center><h1>recent and upcoming changes to xarray</h1></center>\n",
    "\n",
    "<p>\n",
    "<center>Justus Magin</center>\n",
    "<center>@keewis</center>\n",
    "</p>"
   ]
  },
  {
   "cell_type": "markdown",
   "id": "637af4a3",
   "metadata": {
    "slideshow": {
     "slide_type": "subslide"
    }
   },
   "source": [
    "- Recent major changes\n",
    "- `xarray-contrib`"
   ]
  },
  {
   "cell_type": "markdown",
   "id": "7bed9522",
   "metadata": {
    "slideshow": {
     "slide_type": "subslide"
    }
   },
   "source": [
    "- Recent major changes\n",
    "    - backend refactor\n",
    "    - index refactor\n",
    "    - datatree\n",
    "- `xarray-contrib`"
   ]
  },
  {
   "cell_type": "markdown",
   "id": "bb2d0c38",
   "metadata": {
    "slideshow": {
     "slide_type": "subslide"
    }
   },
   "source": [
    "- Recent major changes\n",
    "- `xarray-contrib`\n",
    "    - cf-xarray\n",
    "    - pint-xarray\n",
    "    - ..."
   ]
  },
  {
   "cell_type": "markdown",
   "id": "879de969",
   "metadata": {
    "slideshow": {
     "slide_type": "slide"
    }
   },
   "source": [
    "## recent and ongoing changes"
   ]
  },
  {
   "cell_type": "markdown",
   "id": "f61720ad",
   "metadata": {
    "slideshow": {
     "slide_type": "slide"
    }
   },
   "source": [
    "### backend refactor"
   ]
  },
  {
   "cell_type": "markdown",
   "id": "4de449c7",
   "metadata": {
    "slideshow": {
     "slide_type": "subslide"
    }
   },
   "source": [
    "up until `xarray=0.17`:\n",
    "- new file formats are possible, but: everything has to be reimplemented. Like\n",
    "    - chunking\n",
    "    - cache\n",
    "    - lazy indexing (without dask)\n",
    "- `open_dataset` can't be reused"
   ]
  },
  {
   "cell_type": "markdown",
   "id": "d05c7a7a",
   "metadata": {
    "slideshow": {
     "slide_type": "subslide"
    }
   },
   "source": [
    "since `xarray=0.18.0`, new backends can be\n",
    "\n",
    "\n",
    "- defined as a [backend](https://xarray.pydata.org/en/latest/internals/how-to-add-new-backend.html):"
   ]
  },
  {
   "cell_type": "markdown",
   "id": "77f11039",
   "metadata": {
    "slideshow": {
     "slide_type": "subslide"
    }
   },
   "source": [
    "```python\n",
    "from xarray.backends import BackendEntrypoint\n",
    "\n",
    "class MyBackendEntrypoint(BackendEntrypoint):\n",
    "    def open_dataset(self, fn_or_obj, *, drop_vars=None):\n",
    "        return my_open(fn_or_obj, drop_vars=drop_vars)\n",
    "\n",
    "    open_dataset_parameters = [\"fn_or_obj\", \"drop_vars\"]\n",
    "\n",
    "    def guess_can_open(self, fn_or_obj):\n",
    "        ...\n",
    "```"
   ]
  },
  {
   "cell_type": "markdown",
   "id": "2e5020de",
   "metadata": {
    "slideshow": {
     "slide_type": "subslide"
    }
   },
   "source": [
    "since `xarray=0.18.0`, new backends can be\n",
    "\n",
    "\n",
    "- defined as a [backend](https://xarray.pydata.org/en/latest/internals/how-to-add-new-backend.html)\n",
    "- registered under the `xarray.backends` entrypoints"
   ]
  },
  {
   "cell_type": "code",
   "execution_count": null,
   "id": "34e19660",
   "metadata": {
    "slideshow": {
     "slide_type": "subslide"
    }
   },
   "outputs": [],
   "source": [
    "rio_da = rioxarray.open_rasterio(\"RGB.byte.tif\")\n",
    "rio_da"
   ]
  },
  {
   "cell_type": "code",
   "execution_count": null,
   "id": "a51c0777",
   "metadata": {
    "slideshow": {
     "slide_type": "subslide"
    }
   },
   "outputs": [],
   "source": [
    "ds = xr.open_dataset(\"RGB.byte.tif\", engine=\"rasterio\")\n",
    "ds"
   ]
  },
  {
   "cell_type": "markdown",
   "id": "19823d2b",
   "metadata": {
    "slideshow": {
     "slide_type": "slide"
    }
   },
   "source": [
    "## index refactor"
   ]
  },
  {
   "cell_type": "markdown",
   "id": "ac02258b",
   "metadata": {
    "slideshow": {
     "slide_type": "subslide"
    }
   },
   "source": [
    "- current state:\n",
    "    - coordinates ≠ dimension coordinates\n",
    "    -\n",
    "    -\n",
    "- goals\n",
    "- process"
   ]
  },
  {
   "cell_type": "code",
   "execution_count": null,
   "id": "0eb00f3d",
   "metadata": {
    "slideshow": {
     "slide_type": "subslide"
    }
   },
   "outputs": [],
   "source": [
    "ds = xr.Dataset(coords={\"x\": (\"x\", [\"a\", \"b\", \"c\"]), \"u\": (\"x\", [1, 2, 3])})\n",
    "ds"
   ]
  },
  {
   "cell_type": "code",
   "execution_count": null,
   "id": "e2c0189a",
   "metadata": {
    "slideshow": {
     "slide_type": "subslide"
    }
   },
   "outputs": [],
   "source": [
    "ds.sel(x=[\"a\", \"b\"])"
   ]
  },
  {
   "cell_type": "code",
   "execution_count": null,
   "id": "7453747e",
   "metadata": {
    "slideshow": {
     "slide_type": "subslide"
    }
   },
   "outputs": [],
   "source": [
    "ds.sel(u=[1, 2])"
   ]
  },
  {
   "cell_type": "markdown",
   "id": "ff7af821",
   "metadata": {
    "slideshow": {
     "slide_type": "subslide"
    }
   },
   "source": [
    "- current state:\n",
    "    - coordinates ≠ coordinates on dimensions (dimension coordinates)\n",
    "    - associated \"indexes\" must be pandas.Index\n",
    "    -\n",
    "- goals\n",
    "- process"
   ]
  },
  {
   "cell_type": "markdown",
   "id": "64371bc6",
   "metadata": {
    "slideshow": {
     "slide_type": "subslide"
    }
   },
   "source": [
    "- current state:\n",
    "    - coordinates ≠ dimension coordinates (coordinates on dimensions)\n",
    "    - associated \"indexes\" must be pandas.Index\n",
    "    - dimension coordinates must be numpy arrays\n",
    "- goals"
   ]
  },
  {
   "cell_type": "markdown",
   "id": "dc04853e",
   "metadata": {
    "slideshow": {
     "slide_type": "subslide"
    }
   },
   "source": [
    "- current state\n",
    "- goals:\n",
    "    - indexes other than pandas.Index (kdtree, balltree, dask.dataframe.Index, ...)\n",
    "    - index over multiple coordinates\n",
    "    - other array types (dask, pint, cupy, ...)\n",
    "    - indexing operations on all coordinates, not dimension coordinates"
   ]
  },
  {
   "cell_type": "markdown",
   "id": "5ce016a6",
   "metadata": {
    "slideshow": {
     "slide_type": "slide"
    }
   },
   "source": [
    "### datatree"
   ]
  },
  {
   "cell_type": "markdown",
   "id": "1db45913",
   "metadata": {
    "slideshow": {
     "slide_type": "fragment"
    }
   },
   "source": [
    "- netcdf files can have (nested) groups, with different values for coordinates\n",
    "- represent these groups using a tree-like structure, but similar API as Dataset\n",
    "\n",
    "→ [datatree](https://github.com/TomNicholas/datatree)"
   ]
  },
  {
   "cell_type": "code",
   "execution_count": null,
   "id": "491fbf0e",
   "metadata": {
    "slideshow": {
     "slide_type": "subslide"
    }
   },
   "outputs": [],
   "source": [
    "from datatree.tests.test_datatree import create_test_datatree\n",
    "\n",
    "dt = create_test_datatree()\n",
    "print(str(dt))"
   ]
  },
  {
   "cell_type": "code",
   "execution_count": null,
   "id": "5eb8a51b",
   "metadata": {
    "slideshow": {
     "slide_type": "subslide"
    }
   },
   "outputs": [],
   "source": [
    "print(str(dt[\"/set1/set2\"]))"
   ]
  },
  {
   "cell_type": "code",
   "execution_count": null,
   "id": "621a9070",
   "metadata": {
    "slideshow": {
     "slide_type": "subslide"
    }
   },
   "outputs": [],
   "source": [
    "print(str(dt.mean()))"
   ]
  },
  {
   "cell_type": "markdown",
   "id": "74a00bd9",
   "metadata": {
    "slideshow": {
     "slide_type": "slide"
    }
   },
   "source": [
    "## xarray-contrib"
   ]
  },
  {
   "cell_type": "markdown",
   "id": "9ce26b31",
   "metadata": {
    "slideshow": {
     "slide_type": "subslide"
    }
   },
   "source": [
    "- pint-xarray: use pint to convert and work with units\n",
    "- cupy-xarray: simplify working with cupy arrays (experimental)\n",
    "- cf-xarray: integrate more closely with the CF conventions\n",
    "- xpublish: publish a xarray object as a web server\n",
    "- xoak: extended indexing operations\n",
    "- xarray-simlab: simulations using xarray\n",
    "- xskillscore: evaluate forecasts\n",
    "- sphinx-autosummary-accessors: document accessors as they are called"
   ]
  },
  {
   "cell_type": "markdown",
   "id": "6ecf1f6f",
   "metadata": {
    "slideshow": {
     "slide_type": "slide"
    }
   },
   "source": [
    "### cf-xarray"
   ]
  },
  {
   "cell_type": "code",
   "execution_count": null,
   "id": "aa1a66af",
   "metadata": {
    "slideshow": {
     "slide_type": "skip"
    }
   },
   "outputs": [],
   "source": [
    "xr.set_options(display_style=\"html\")"
   ]
  },
  {
   "cell_type": "code",
   "execution_count": null,
   "id": "237c51af",
   "metadata": {
    "slideshow": {
     "slide_type": "subslide"
    }
   },
   "outputs": [],
   "source": [
    "ds = xr.tutorial.load_dataset(\"air_temperature\")\n",
    "ds.air.attrs[\"standard_name\"] = \"air_temperature\"\n",
    "ds"
   ]
  },
  {
   "cell_type": "code",
   "execution_count": null,
   "id": "c25639d6",
   "metadata": {
    "slideshow": {
     "slide_type": "subslide"
    }
   },
   "outputs": [],
   "source": [
    "ds.cf"
   ]
  },
  {
   "cell_type": "code",
   "execution_count": null,
   "id": "517710cf",
   "metadata": {
    "slideshow": {
     "slide_type": "subslide"
    }
   },
   "outputs": [],
   "source": [
    "# by standard name\n",
    "ds.cf[\"latitude\"]"
   ]
  },
  {
   "cell_type": "code",
   "execution_count": null,
   "id": "47241d1a",
   "metadata": {
    "slideshow": {
     "slide_type": "subslide"
    }
   },
   "outputs": [],
   "source": [
    "# by axis\n",
    "ds.cf[\"Y\"]"
   ]
  },
  {
   "cell_type": "code",
   "execution_count": null,
   "id": "46128d15",
   "metadata": {
    "slideshow": {
     "slide_type": "subslide"
    }
   },
   "outputs": [],
   "source": [
    "ds.cf.mean(dim=[\"T\", \"latitude\"])"
   ]
  },
  {
   "cell_type": "markdown",
   "id": "eb2d0750",
   "metadata": {
    "slideshow": {
     "slide_type": "slide"
    }
   },
   "source": [
    "### `pint-xarray`"
   ]
  },
  {
   "cell_type": "markdown",
   "id": "c79b5bfd",
   "metadata": {
    "slideshow": {
     "slide_type": "subslide"
    }
   },
   "source": [
    "`pint`'s API is centered around the `UnitRegistry`:"
   ]
  },
  {
   "cell_type": "code",
   "execution_count": null,
   "id": "cbdc69ee",
   "metadata": {
    "slideshow": {
     "slide_type": "fragment"
    }
   },
   "outputs": [],
   "source": [
    "import pint\n",
    "\n",
    "ureg = pint.UnitRegistry()"
   ]
  },
  {
   "cell_type": "markdown",
   "id": "acae0da5",
   "metadata": {
    "slideshow": {
     "slide_type": "subslide"
    }
   },
   "source": [
    "This class allows the creation of `Unit` and `Quantity` instances:"
   ]
  },
  {
   "cell_type": "code",
   "execution_count": null,
   "id": "330a5ed1",
   "metadata": {
    "slideshow": {
     "slide_type": "fragment"
    }
   },
   "outputs": [],
   "source": [
    "u = ureg.Unit(\"m / s\")\n",
    "u"
   ]
  },
  {
   "cell_type": "code",
   "execution_count": null,
   "id": "d93a2cfe",
   "metadata": {
    "slideshow": {
     "slide_type": "fragment"
    }
   },
   "outputs": [],
   "source": [
    "q = ureg.Quantity(4, \"s\")\n",
    "q"
   ]
  },
  {
   "cell_type": "markdown",
   "id": "029c4e91",
   "metadata": {
    "slideshow": {
     "slide_type": "subslide"
    }
   },
   "source": [
    "it also allows the customization of representation:"
   ]
  },
  {
   "cell_type": "code",
   "execution_count": null,
   "id": "9810b042",
   "metadata": {
    "slideshow": {
     "slide_type": "fragment"
    }
   },
   "outputs": [],
   "source": [
    "ureg.default_format = \"~P\"\n",
    "display(u)\n",
    "display(q)"
   ]
  },
  {
   "cell_type": "markdown",
   "id": "194aac16",
   "metadata": {
    "slideshow": {
     "slide_type": "subslide"
    }
   },
   "source": [
    "we can easily convert to other units:"
   ]
  },
  {
   "cell_type": "code",
   "execution_count": null,
   "id": "18b57167",
   "metadata": {
    "slideshow": {
     "slide_type": "fragment"
    }
   },
   "outputs": [],
   "source": [
    "q.to(\"ms\")"
   ]
  },
  {
   "cell_type": "markdown",
   "id": "81cc5630",
   "metadata": {
    "slideshow": {
     "slide_type": "fragment"
    }
   },
   "source": [
    "but only compatible ones:"
   ]
  },
  {
   "cell_type": "code",
   "execution_count": null,
   "id": "89f3f07f",
   "metadata": {
    "slideshow": {
     "slide_type": "fragment"
    }
   },
   "outputs": [],
   "source": [
    "q.to(\"m\")"
   ]
  },
  {
   "cell_type": "markdown",
   "id": "625f5f7f",
   "metadata": {
    "slideshow": {
     "slide_type": "subslide"
    }
   },
   "source": [
    "the units are automatically propagated:"
   ]
  },
  {
   "cell_type": "code",
   "execution_count": null,
   "id": "33b06b09",
   "metadata": {
    "slideshow": {
     "slide_type": "fragment"
    }
   },
   "outputs": [],
   "source": [
    "q1 = ureg.Quantity(5, \"m / s ** 2\")\n",
    "q2 = ureg.Quantity(3, \"s\")\n",
    "v = q1 * q2\n",
    "v"
   ]
  },
  {
   "cell_type": "markdown",
   "id": "35f4d0fd",
   "metadata": {
    "slideshow": {
     "slide_type": "subslide"
    }
   },
   "source": [
    "and automatically converted where necessary:"
   ]
  },
  {
   "cell_type": "code",
   "execution_count": null,
   "id": "d014a5e1",
   "metadata": {
    "slideshow": {
     "slide_type": "fragment"
    }
   },
   "outputs": [],
   "source": [
    "ureg.Quantity(36, \"degree\") + ureg.Quantity(np.pi, \"radians\")"
   ]
  },
  {
   "cell_type": "markdown",
   "id": "6c1e1806",
   "metadata": {
    "slideshow": {
     "slide_type": "subslide"
    }
   },
   "source": [
    "they will also raise on invalid operations:"
   ]
  },
  {
   "cell_type": "code",
   "execution_count": null,
   "id": "bcab77e2",
   "metadata": {
    "slideshow": {
     "slide_type": "fragment"
    }
   },
   "outputs": [],
   "source": [
    "ureg.Quantity(36, \"degree\") + ureg.Quantity(10, \"kg\")"
   ]
  },
  {
   "cell_type": "markdown",
   "id": "2acfbd7b",
   "metadata": {
    "slideshow": {
     "slide_type": "subslide"
    }
   },
   "source": [
    "`pint` can be used directly with `xarray`, but using it directly is difficult. Thus: `pint-xarray`."
   ]
  }
 ],
 "metadata": {
  "celltoolbar": "Slideshow",
  "kernelspec": {
   "display_name": "Python 3 (ipykernel)",
   "language": "python",
   "name": "python3"
  },
  "language_info": {
   "codemirror_mode": {
    "name": "ipython",
    "version": 3
   },
   "file_extension": ".py",
   "mimetype": "text/x-python",
   "name": "python",
   "nbconvert_exporter": "python",
   "pygments_lexer": "ipython3",
   "version": "3.9.2"
  }
 },
 "nbformat": 4,
 "nbformat_minor": 5
}
