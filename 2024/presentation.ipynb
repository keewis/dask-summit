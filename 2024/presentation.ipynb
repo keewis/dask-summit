{
 "cells": [
  {
   "cell_type": "markdown",
   "id": "deb46a26-fe35-4261-86f6-a3bc99371da2",
   "metadata": {
    "editable": true,
    "slideshow": {
     "slide_type": ""
    },
    "tags": []
   },
   "source": [
    "# `xdggs`: using Discrete Global Grid Systems (DGGS) with `xarray`\n",
    "\n",
    "<!-- rendered using jupyterlab-myst\n",
    "\n",
    "Dependencies:\n",
    "- xarray\n",
    "- xdggs\n",
    "- pint-xarray\n",
    "- cmocean\n",
    "-->"
   ]
  },
  {
   "attachments": {},
   "cell_type": "markdown",
   "id": "2802d9d3-46e7-4d4c-a087-aab959f580eb",
   "metadata": {
    "editable": true,
    "slideshow": {
     "slide_type": ""
    },
    "tags": []
   },
   "source": [
    "https://github.com/xarray-contrib/xdggs | https://xdggs.readthedocs.io\n",
    "\n",
    "- Based on cell ids (for working with cell boundaries see e.g. `uxarray`)\n",
    "- builtin support: healpix and H3, extensible by third-party libraries\n",
    "- cell stat pages: [h3](https://h3geo.org/docs/core-library/restable)\n",
    "\n",
    "```{warning}\n",
    "Interpolation to DGGS is a mostly unsolved problem in python, in the following we assume we already have data on a DGGS grid.\n",
    "```\n",
    "\n",
    "```{image}  global-hexagons-3094508851.jpg\n",
    "---\n",
    "width: 400\n",
    "height: 400\n",
    "title: H3\n",
    "---\n",
    "H3\n",
    "```\n",
    "```{image}  gorski_f1-3990760175.jpg\n",
    "---\n",
    "width: 400\n",
    "height: 400\n",
    "title: Healpix\n",
    "---\n",
    "Healpix\n",
    "```"
   ]
  },
  {
   "cell_type": "code",
   "execution_count": null,
   "id": "a8d4e3b6-8f95-4441-94aa-c2cc449f0be5",
   "metadata": {
    "editable": true,
    "jupyter": {
     "source_hidden": true
    },
    "slideshow": {
     "slide_type": ""
    },
    "tags": []
   },
   "outputs": [],
   "source": [
    "# calculate healpix stats page\n",
    "import healpy as hp\n",
    "import numpy as np\n",
    "from rich.table import Column, Table\n",
    "\n",
    "table = Table()\n",
    "table.add_column(\"level\")\n",
    "table.add_column(\"n_cells\")\n",
    "table.add_column(\"n_cells per base pixel\")\n",
    "table.add_column(\"area (degree²)\", justify=\"right\")\n",
    "table.add_column(\"area (km²)\", justify=\"right\")\n",
    "table.add_column(\"distance (degree)\", justify=\"right\")\n",
    "table.add_column(\"distance (km)\", justify=\"right\")\n",
    "\n",
    "r = 6371\n",
    "\n",
    "for level in range(20):\n",
    "    n_cells = 12 * 4**level\n",
    "    area = 4 * np.pi / n_cells\n",
    "    per_base_pixel = 4**level\n",
    "    edge_length = np.sqrt(area)\n",
    "    table.add_row(\n",
    "        str(level),\n",
    "        str(n_cells),\n",
    "        str(per_base_pixel),\n",
    "        f\"{np.rad2deg(area):.012f}\",\n",
    "        f\"{area * r**2:.012f}\",\n",
    "        f\"{hp.nside2resol(2**level, arcmin=True) / 60:.012f}\",\n",
    "        f\"{r * hp.nside2resol(2**level, arcmin=False):.012f}\",\n",
    "    )\n",
    "table"
   ]
  },
  {
   "cell_type": "markdown",
   "id": "17b73628-8b4d-48dc-9f7b-61fb188cce63",
   "metadata": {},
   "source": [
    "## Setup"
   ]
  },
  {
   "cell_type": "code",
   "execution_count": null,
   "id": "e1d1650b-333a-41cb-a75f-37346faea94e",
   "metadata": {},
   "outputs": [],
   "source": [
    "import xarray as xr\n",
    "\n",
    "import xdggs\n",
    "\n",
    "xr.set_options(display_expand_data=False)"
   ]
  },
  {
   "cell_type": "code",
   "execution_count": null,
   "id": "4af1eedd-8cc4-4310-823d-a2f18df6b5e7",
   "metadata": {},
   "outputs": [],
   "source": [
    "ds_healpix = xdggs.tutorial.open_dataset(\"air_temperature\", \"healpix\").load()\n",
    "ds_h3 = xdggs.tutorial.open_dataset(\"air_temperature\", \"h3\").load()\n",
    "\n",
    "display(ds_healpix, ds_h3)"
   ]
  },
  {
   "cell_type": "code",
   "execution_count": null,
   "id": "131459bc-4c31-411e-a5e4-20dc67ad5dca",
   "metadata": {},
   "outputs": [],
   "source": [
    "h3_coords = (\n",
    "    ds_h3[[\"lat\", \"lon\"]]\n",
    "    .rename_vars({\"lon\": \"longitude\", \"lat\": \"latitude\"})\n",
    "    .drop_vars(\"cell_ids\")\n",
    "    .drop_attrs()\n",
    ")\n",
    "healpix_coords = (\n",
    "    ds_healpix[[\"lat\", \"lon\"]]\n",
    "    .rename_vars({\"lon\": \"longitude\", \"lat\": \"latitude\"})\n",
    "    .drop_vars(\"cell_ids\")\n",
    "    .drop_attrs()\n",
    ")"
   ]
  },
  {
   "cell_type": "code",
   "execution_count": null,
   "id": "92df47b8-c65b-4faa-9b29-b03970927ecb",
   "metadata": {},
   "outputs": [],
   "source": [
    "healpix = ds_healpix.pipe(xdggs.decode)\n",
    "h3 = ds_h3.pipe(xdggs.decode)\n",
    "\n",
    "display(healpix, h3)"
   ]
  },
  {
   "cell_type": "markdown",
   "id": "ea29e772-a1ec-4c74-aaa9-bf7e7ff8444d",
   "metadata": {},
   "source": [
    "## Deriving data"
   ]
  },
  {
   "cell_type": "markdown",
   "id": "0e4f2f22-eb31-4836-bb23-4a38d79748fa",
   "metadata": {},
   "source": [
    "### Cell centers"
   ]
  },
  {
   "cell_type": "code",
   "execution_count": null,
   "id": "abe2dba5-20d6-4634-b0b6-bc66471699ab",
   "metadata": {},
   "outputs": [],
   "source": [
    "h3_centers = h3.drop_vars([\"lon\", \"lat\"]).dggs.cell_centers()\n",
    "h3_centers"
   ]
  },
  {
   "cell_type": "code",
   "execution_count": null,
   "id": "68207664-360a-42d4-946b-2ad810603bd0",
   "metadata": {},
   "outputs": [],
   "source": [
    "healpix_centers = healpix.drop_vars([\"lon\", \"lat\"]).dggs.cell_centers()\n",
    "healpix_centers"
   ]
  },
  {
   "cell_type": "code",
   "execution_count": null,
   "id": "0ee20c80-26aa-48e3-9910-6a01840b29a3",
   "metadata": {},
   "outputs": [],
   "source": [
    "xr.testing.assert_identical(h3_centers, h3_coords)\n",
    "xr.testing.assert_identical(healpix_centers, healpix_coords)"
   ]
  },
  {
   "cell_type": "markdown",
   "id": "2b29f7da-55a3-45d2-be3e-45ca9ac78853",
   "metadata": {},
   "source": [
    "### Cell boundaries"
   ]
  },
  {
   "cell_type": "code",
   "execution_count": null,
   "id": "165704ce-403a-4c71-8310-ea7be4423a56",
   "metadata": {},
   "outputs": [],
   "source": [
    "h3.dggs.cell_boundaries()"
   ]
  },
  {
   "cell_type": "code",
   "execution_count": null,
   "id": "4a8d33ee-6c1d-4de8-9e4a-6b5428fdc1e5",
   "metadata": {},
   "outputs": [],
   "source": [
    "healpix.dggs.cell_boundaries()"
   ]
  },
  {
   "cell_type": "markdown",
   "id": "b3cb8228-ecf9-4a81-8ef4-7ffb7eecc846",
   "metadata": {},
   "source": [
    "## Selecting points"
   ]
  },
  {
   "cell_type": "code",
   "execution_count": null,
   "id": "dcf7e9a0-0f1f-4d4a-9b9b-bf8991632c9e",
   "metadata": {},
   "outputs": [],
   "source": [
    "lats = np.array([40.0, 50.0, 60.0])\n",
    "lons = np.array([230.0, 240.0, 250.0])\n",
    "\n",
    "subset_healpix = healpix.dggs.sel_latlon(lats, lons)\n",
    "subset_h3 = h3.dggs.sel_latlon(lats, lons)\n",
    "display(subset_healpix, subset_h3)"
   ]
  },
  {
   "cell_type": "markdown",
   "id": "5f4f42e1-9f27-485b-b60c-8e2ac6428e7e",
   "metadata": {},
   "source": [
    "## Plotting"
   ]
  },
  {
   "cell_type": "code",
   "execution_count": null,
   "id": "a20b0804-90b0-4028-8169-065ed096e5a1",
   "metadata": {
    "jupyter": {
     "source_hidden": true
    }
   },
   "outputs": [],
   "source": [
    "import cmocean\n",
    "import pint_xarray\n",
    "\n",
    "\n",
    "def to_celsius(ds):\n",
    "    return ds.pint.quantify().pint.to(\"degC\").pint.dequantify().pipe(xdggs.decode)"
   ]
  },
  {
   "cell_type": "code",
   "execution_count": null,
   "id": "30d1d8d8-ebaf-44f2-9ada-8baa8e9b6537",
   "metadata": {},
   "outputs": [],
   "source": [
    "from ipywidgets import GridspecLayout\n",
    "\n",
    "grid = GridspecLayout(1, 2)\n",
    "grid[0, 0] = (\n",
    "    subset_h3[\"air\"]\n",
    "    .isel(time=0)\n",
    "    .copy(deep=True)\n",
    "    .dggs.explore(cmap=\"coolwarm\", center=273.15, alpha=0.8)\n",
    ")\n",
    "grid[0, 1] = (\n",
    "    subset_healpix[\"air\"]\n",
    "    .isel(time=0)\n",
    "    .copy(deep=True)\n",
    "    .dggs.explore(cmap=\"coolwarm\", center=273.15, alpha=0.8)\n",
    ")\n",
    "grid"
   ]
  },
  {
   "cell_type": "code",
   "execution_count": null,
   "id": "288bd537-0cf1-442b-9bd0-d0d900ac38a8",
   "metadata": {},
   "outputs": [],
   "source": [
    "from ipywidgets import GridspecLayout\n",
    "\n",
    "subset_h3 = h3[\"air\"].isel(time=0)\n",
    "subset_healpix = healpix[\"air\"].isel(time=0)\n",
    "\n",
    "subset_healpix.dggs.explore()"
   ]
  },
  {
   "cell_type": "code",
   "execution_count": null,
   "id": "1950c2ed-b2cf-4022-9376-38e957b9b2e2",
   "metadata": {},
   "outputs": [],
   "source": [
    "grid = GridspecLayout(1, 2)\n",
    "grid[0, 0] = subset_h3.dggs.explore(cmap=\"coolwarm\", center=273.15, alpha=0.8)\n",
    "grid[0, 1] = subset_healpix.dggs.explore(cmap=\"coolwarm\", center=273.15, alpha=0.8)\n",
    "grid"
   ]
  },
  {
   "cell_type": "markdown",
   "id": "050102e1-aaee-478a-9310-e2c0e53f46ca",
   "metadata": {
    "editable": true,
    "slideshow": {
     "slide_type": ""
    },
    "tags": []
   },
   "source": [
    "## Future plans\n",
    "\n",
    "- hierarchical operations: query parents, children, siblings\n",
    "- neighbor search\n",
    "- geometric selection: selection using geometric objects, for example by polygons / circles / lines / points\n",
    "- automatic alignment\n",
    "- ... and more!\n"
   ]
  }
 ],
 "metadata": {
  "kernelspec": {
   "display_name": "Python 3 (ipykernel)",
   "language": "python",
   "name": "python3"
  },
  "language_info": {
   "codemirror_mode": {
    "name": "ipython",
    "version": 3
   },
   "file_extension": ".py",
   "mimetype": "text/x-python",
   "name": "python",
   "nbconvert_exporter": "python",
   "pygments_lexer": "ipython3",
   "version": "3.11.6"
  }
 },
 "nbformat": 4,
 "nbformat_minor": 5
}
