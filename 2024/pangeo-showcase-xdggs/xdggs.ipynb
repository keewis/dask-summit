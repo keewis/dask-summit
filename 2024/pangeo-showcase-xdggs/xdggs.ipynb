{
 "cells": [
  {
   "cell_type": "markdown",
   "id": "69b8e942-b2fe-49fe-8ca6-27af990d0d20",
   "metadata": {},
   "source": [
    "# xdggs: using discrete global grid systems with `xarray`"
   ]
  },
  {
   "cell_type": "markdown",
   "id": "c8891c36-9217-4731-8eca-104a2f60c36a",
   "metadata": {},
   "source": [
    "`xdggs` uses the information contained in the cell ids to perform operations on the cell ids.\n",
    "\n",
    "It currently includes built-in support for:\n",
    "- healpix (using `cds-healpix-python`)\n",
    "- h3 (using `h3ronpy`)\n",
    "\n",
    "Any operations on the data will then use standard `xarray` methods."
   ]
  },
  {
   "cell_type": "markdown",
   "id": "5eaaac1f-d64f-45ad-bb2a-1ca0a90323f4",
   "metadata": {},
   "source": [
    "## opening data\n",
    "\n",
    "```{note}\n",
    "`xdggs` explicitly excludes regridding from / to a DGGS, as that is better solved by a separate, more general package.\n",
    "\n",
    "In the following, we'll use the `air_temperature` dataset from `xarray`'s tutorial data that has already been interpolated to a DGGS. We'll use `h3` for demonstration purposes, but you can choose any of the supported DGGS and the code will work in the same way.\n",
    "```"
   ]
  },
  {
   "cell_type": "code",
   "execution_count": null,
   "id": "a8a9ffb4-4215-4225-a5e8-ac33accad6b7",
   "metadata": {},
   "outputs": [],
   "source": [
    "import xarray as xr\n",
    "import xdggs\n",
    "\n",
    "xr.set_options(display_expand_data=False, display_expand_attrs=False);"
   ]
  },
  {
   "cell_type": "code",
   "execution_count": null,
   "id": "5f7fd675-a635-490f-93a1-7411b4d63671",
   "metadata": {},
   "outputs": [],
   "source": []
  },
  {
   "cell_type": "code",
   "execution_count": null,
   "id": "630b7584-8854-4d41-a9d3-7e7a6d4f181f",
   "metadata": {},
   "outputs": [],
   "source": [
    "# open the data\n",
    "ds = xdggs.tutorial.open_dataset(\"air_temperature\", \"h3\").load()\n",
    "ds"
   ]
  },
  {
   "cell_type": "markdown",
   "id": "86e4fdaf-fd9b-4eb7-975b-65e1ad0c8ddb",
   "metadata": {},
   "source": [
    "To then interact with the cell ids, we need to create an index on the cell ids:\n",
    "\n",
    "```{note}\n",
    "This makes use of the attributes on the `cell_ids` variable. The required attributes are:\n",
    "- `grid_name`: the name of the grid\n",
    "- `level`: the grid hierarchical level. Corresponds to the resolution of the grid.\n",
    "\n",
    "Grids can define more parameters, like the indexing scheme for `healpix`.\n",
    "\n",
    "Note that currently the variable name is hard-coded to `cell_ids`, but this will be customizable (and possibly auto-detected) in the future.\n",
    "```"
   ]
  },
  {
   "cell_type": "code",
   "execution_count": null,
   "id": "a5bdb072-56ff-4cf5-aca0-5abfe8b390c2",
   "metadata": {},
   "outputs": [],
   "source": []
  },
  {
   "cell_type": "code",
   "execution_count": null,
   "id": "5810499e-7c44-402a-b03b-13a40950814d",
   "metadata": {},
   "outputs": [],
   "source": [
    "# create the index\n",
    "ds = ds.pipe(xdggs.decode)\n",
    "ds"
   ]
  },
  {
   "cell_type": "markdown",
   "id": "447bef5d-dca4-4361-8d1d-6cc2a031cad8",
   "metadata": {},
   "source": [
    "## plotting\n",
    "\n",
    "To get a good idea of what the data is about, we need to plot. For interactive visualization, `xdggs` interfaces with [lonboard](https://github.com/developmentseed/lonboard):\n",
    "\n",
    "```{note}\n",
    "This is currently restricted to 1D `DataArray`s, but in the future will include a slider for additional dimensions.\n",
    "```"
   ]
  },
  {
   "cell_type": "code",
   "execution_count": null,
   "id": "a275b486-6637-4657-8330-3dbee4696753",
   "metadata": {},
   "outputs": [],
   "source": []
  },
  {
   "cell_type": "code",
   "execution_count": null,
   "id": "c69a3002-dc0a-4c0a-9364-0c5e214e565e",
   "metadata": {},
   "outputs": [],
   "source": [
    "# visualize the data\n",
    "ds[\"air\"].isel(time=15).dggs.explore(alpha=0.8, center=273.15, cmap=\"coolwarm\")"
   ]
  },
  {
   "cell_type": "markdown",
   "id": "49fa46dd-1f2a-47c2-b394-971b281a701c",
   "metadata": {},
   "source": [
    "## selecting data\n",
    "\n",
    "Since the cell ids contain information about the cells and their extent, we can subset the data using the index.\n",
    "\n",
    "```{note}\n",
    "At the moment, we can only select individual points (`xarray` calls this [vectorized indexing](https://docs.xarray.dev/en/stable/user-guide/indexing.html#vectorized-indexing)), but there are plans to extend this to bounding boxes or arbitrary geometries.\n",
    "```"
   ]
  },
  {
   "cell_type": "code",
   "execution_count": null,
   "id": "dba09382-bcfc-44f7-ab02-8b88bba0e9ba",
   "metadata": {},
   "outputs": [],
   "source": [
    "data = ds.drop_vars([\"lat\", \"lon\"])\n",
    "\n",
    "lat = xr.DataArray([24, 30, 40, 50, 60], dims=\"points\")\n",
    "lon = xr.DataArray([293, 240, -100, -80, -60], dims=\"points\")"
   ]
  },
  {
   "cell_type": "code",
   "execution_count": null,
   "id": "74a7790a-9d99-4498-9e45-bf32f29a22b7",
   "metadata": {},
   "outputs": [],
   "source": []
  },
  {
   "cell_type": "code",
   "execution_count": null,
   "id": "b0763b23-9dba-49ab-b098-03d7f2e74932",
   "metadata": {
    "jupyter": {
     "source_hidden": true
    }
   },
   "outputs": [],
   "source": [
    "# select using points\n",
    "subset = ds.dggs.sel_latlon(latitude=lat, longitude=lon)\n",
    "subset[\"air\"].isel(time=15).dggs.explore(alpha=0.8, center=273.15, cmap=\"coolwarm\")"
   ]
  },
  {
   "cell_type": "markdown",
   "id": "63c24529-8125-42ca-8e50-0b9d8a5db859",
   "metadata": {},
   "source": [
    "## deriving information\n",
    "\n",
    "To interact with other libraries that don't know how to work with cell ids, we need to be able to compute the cell center coordinates and cell boundaries."
   ]
  },
  {
   "cell_type": "markdown",
   "id": "4f94e0bd-2ae2-41a5-8286-f3254f48a1b9",
   "metadata": {},
   "source": [
    "### cell centers"
   ]
  },
  {
   "cell_type": "code",
   "execution_count": null,
   "id": "a041847e-d159-451c-bcde-9cef89d739d7",
   "metadata": {},
   "outputs": [],
   "source": [
    "expected = (\n",
    "    ds[[\"lat\", \"lon\"]]\n",
    "    .rename({\"lat\": \"latitude\", \"lon\": \"longitude\"})\n",
    "    .drop_vars(\"cell_ids\")\n",
    ")"
   ]
  },
  {
   "cell_type": "code",
   "execution_count": null,
   "id": "c8b691c0-b6a2-4cc0-844a-b05fa4a731ee",
   "metadata": {},
   "outputs": [],
   "source": []
  },
  {
   "cell_type": "code",
   "execution_count": null,
   "id": "be202374-2dfb-4235-a79a-bc340a431c18",
   "metadata": {
    "jupyter": {
     "source_hidden": true
    }
   },
   "outputs": [],
   "source": [
    "# compute cell centers\n",
    "cell_centers = ds.dggs.cell_centers()\n",
    "\n",
    "xr.testing.assert_allclose(cell_centers, expected)"
   ]
  },
  {
   "cell_type": "markdown",
   "id": "8c5c30d0-ec4b-4524-902d-8ca77bd6e46d",
   "metadata": {},
   "source": [
    "### cell boundaries"
   ]
  },
  {
   "cell_type": "code",
   "execution_count": null,
   "id": "29849e95-227d-4bfb-b05c-f1a2c169cb67",
   "metadata": {},
   "outputs": [],
   "source": []
  },
  {
   "cell_type": "code",
   "execution_count": null,
   "id": "03c91dcb-f492-4536-8be6-99bc7b4b3ef6",
   "metadata": {
    "jupyter": {
     "source_hidden": true
    }
   },
   "outputs": [],
   "source": [
    "# compute cell boundaries\n",
    "cell_boundaries = ds.dggs.cell_boundaries()\n",
    "cell_boundaries"
   ]
  },
  {
   "cell_type": "markdown",
   "id": "b5c83c1b-a063-42a5-ab6c-f94f2f1c21f5",
   "metadata": {},
   "source": [
    "## future work"
   ]
  },
  {
   "cell_type": "markdown",
   "id": "c315a5f4-7fe6-4795-9804-d86092be50b8",
   "metadata": {},
   "source": [
    "There are still a lot of exciting new features coming:\n",
    "- hierarchy operations:\n",
    "    - compute parents / children / siblings\n",
    "    - neighbours search\n",
    "- indexing using:\n",
    "    - geometries (polygon, circle, ...)\n",
    "    - bounding box\n",
    "- grid alignment (\"overlap between two grids\")\n",
    "- plotting:\n",
    "    - allow plotting n-dimensional data using sliders\n",
    "    - more customization (e.g. colorbar)\n",
    "- plugin system for third-party DGGS implementations:\n",
    "    - publicly expose and document the plugin system\n",
    "- interface with other libraries (`xvec`, `uxarray`, ...)"
   ]
  }
 ],
 "metadata": {
  "kernelspec": {
   "display_name": "Python 3 (ipykernel)",
   "language": "python",
   "name": "python3"
  },
  "language_info": {
   "codemirror_mode": {
    "name": "ipython",
    "version": 3
   },
   "file_extension": ".py",
   "mimetype": "text/x-python",
   "name": "python",
   "nbconvert_exporter": "python",
   "pygments_lexer": "ipython3",
   "version": "3.11.6"
  }
 },
 "nbformat": 4,
 "nbformat_minor": 5
}
